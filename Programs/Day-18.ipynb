{
 "cells": [
  {
   "cell_type": "markdown",
   "id": "dedce264",
   "metadata": {},
   "source": [
    "Web Scraping - Beta"
   ]
  },
  {
   "cell_type": "code",
   "execution_count": 1,
   "id": "9fd8ace1",
   "metadata": {},
   "outputs": [],
   "source": [
    "import pandas as pd\n",
    "import requests\n",
    "from bs4 import BeautifulSoup"
   ]
  },
  {
   "cell_type": "code",
   "execution_count": 2,
   "id": "21008ed5",
   "metadata": {},
   "outputs": [],
   "source": [
    "headers={'User-Agent':'Mozilla/5.0 (Windows NT 6.3; Win 64 ; x64) AppleWebKit/537.36(KHTML , like Gecko) Chrome/80.0.3987.162 Safari/537.36'} \n",
    "\n",
    "webpage=requests.get('https://mosdac.gov.in/weather/',headers=headers).text"
   ]
  },
  {
   "cell_type": "code",
   "execution_count": null,
   "id": "b5e39872",
   "metadata": {},
   "outputs": [],
   "source": []
  },
  {
   "cell_type": "code",
   "execution_count": 6,
   "id": "a107c11e",
   "metadata": {},
   "outputs": [],
   "source": [
    "soup=BeautifulSoup(webpage,'html.parser')"
   ]
  },
  {
   "cell_type": "code",
   "execution_count": 7,
   "id": "7c43fbcc",
   "metadata": {},
   "outputs": [
    {
     "name": "stdout",
     "output_type": "stream",
     "text": [
      "<!DOCTYPE html>\n",
      "<html lang=\"en\">\n",
      " <head>\n",
      "  <meta charset=\"utf-8\"/>\n",
      "  <meta content=\"width=device-width, initial-scale=1.0\" name=\"viewport\"/>\n",
      "  <meta content=\"ie=edge\" http-equiv=\"X-UA-Compatible\"/>\n",
      "  <!-- <link rel=\"stylesheet\" href=\"animate.min.css\"/> -->\n",
      "  <title>\n",
      "   Weather Forecast\n",
      "  </title>\n",
      "  <link href=\"/weather/favico.png\" rel=\"shortcut icon\"/>\n",
      " </head>\n",
      " <body>\n",
      "  <div id=\"app\">\n",
      "  </div>\n",
      "  <script src=\"/weather/main.1e506296eb4957dfa324.js\" type=\"text/javascript\">\n",
      "  </script>\n",
      " </body>\n",
      "</html>\n",
      "\n"
     ]
    }
   ],
   "source": [
    "print(soup.prettify())"
   ]
  },
  {
   "cell_type": "code",
   "execution_count": 8,
   "id": "ee052411",
   "metadata": {},
   "outputs": [],
   "source": [
    "for i in soup.find_all('a',class_='carousel-chart'):\n",
    "    print(i.text.strip())"
   ]
  },
  {
   "cell_type": "code",
   "execution_count": null,
   "id": "616820b3",
   "metadata": {},
   "outputs": [],
   "source": []
  }
 ],
 "metadata": {
  "kernelspec": {
   "display_name": "Python 3",
   "language": "python",
   "name": "python3"
  },
  "language_info": {
   "codemirror_mode": {
    "name": "ipython",
    "version": 3
   },
   "file_extension": ".py",
   "mimetype": "text/x-python",
   "name": "python",
   "nbconvert_exporter": "python",
   "pygments_lexer": "ipython3",
   "version": "3.13.5"
  }
 },
 "nbformat": 4,
 "nbformat_minor": 5
}
