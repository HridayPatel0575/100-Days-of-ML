{
 "cells": [
  {
   "cell_type": "markdown",
   "id": "d54b3816",
   "metadata": {},
   "source": [
    "Feature engineering is the process of using domain knowledge to extract features from raw data.These features can be used to improve the performance of ML Algorithm"
   ]
  },
  {
   "cell_type": "markdown",
   "id": "06217282",
   "metadata": {},
   "source": [
    "<h1>Feature Engineering\n",
    "<h3>1.Feature Tranformation\n",
    "<h4>a.Missing Value Imputation\n",
    "<h4>b.Handling Categorical Features\n",
    "<h4>c.Outlier Detection\n",
    "<h4>d.feature Scaling"
   ]
  },
  {
   "cell_type": "code",
   "execution_count": null,
   "id": "ed445a02",
   "metadata": {},
   "outputs": [],
   "source": []
  },
  {
   "cell_type": "markdown",
   "id": "2e5b2eaa",
   "metadata": {},
   "source": [
    "<h3>2.Feature Construction"
   ]
  },
  {
   "cell_type": "markdown",
   "id": "4a0da4af",
   "metadata": {},
   "source": [
    "<h3>3.Feature Selection"
   ]
  },
  {
   "cell_type": "markdown",
   "id": "1865e171",
   "metadata": {},
   "source": [
    "<h3>4.Feature Extraction"
   ]
  },
  {
   "cell_type": "code",
   "execution_count": null,
   "id": "bd4fd19f",
   "metadata": {},
   "outputs": [
    {
     "ename": "SyntaxError",
     "evalue": "invalid decimal literal (4289531514.py, line 1)",
     "output_type": "error",
     "traceback": [
      "  \u001b[36mCell\u001b[39m\u001b[36m \u001b[39m\u001b[32mIn[1]\u001b[39m\u001b[32m, line 1\u001b[39m\n\u001b[31m    \u001b[39m\u001b[31m<h3>2.Feature Construction\u001b[39m\n         ^\n\u001b[31mSyntaxError\u001b[39m\u001b[31m:\u001b[39m invalid decimal literal\n"
     ]
    }
   ],
   "source": []
  }
 ],
 "metadata": {
  "kernelspec": {
   "display_name": "Python 3",
   "language": "python",
   "name": "python3"
  },
  "language_info": {
   "codemirror_mode": {
    "name": "ipython",
    "version": 3
   },
   "file_extension": ".py",
   "mimetype": "text/x-python",
   "name": "python",
   "nbconvert_exporter": "python",
   "pygments_lexer": "ipython3",
   "version": "3.13.5"
  }
 },
 "nbformat": 4,
 "nbformat_minor": 5
}
