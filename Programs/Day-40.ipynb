{
 "cells": [
  {
   "cell_type": "markdown",
   "id": "afdfe519",
   "metadata": {},
   "source": [
    "<h2>MICE Algorithm"
   ]
  },
  {
   "cell_type": "markdown",
   "id": "5a22204a",
   "metadata": {},
   "source": [
    "MCAR\n",
    "MAR\n",
    "MNAR"
   ]
  },
  {
   "cell_type": "markdown",
   "id": "cb9b21c0",
   "metadata": {},
   "source": [
    "<h3>Theory Only"
   ]
  }
 ],
 "metadata": {
  "language_info": {
   "name": "python"
  }
 },
 "nbformat": 4,
 "nbformat_minor": 5
}
