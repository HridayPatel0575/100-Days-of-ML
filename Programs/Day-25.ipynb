{
 "cells": [
  {
   "cell_type": "markdown",
   "id": "2ebf2ee1",
   "metadata": {},
   "source": [
    "<h2>Normalization is a technique often applied as part of data preparation for machine learning. The goal of normalization is to change the values of numeric columns in the dataset to use a common scale, without distorting differences in the ranges of values or losing information"
   ]
  },
  {
   "cell_type": "code",
   "execution_count": null,
   "id": "bbcac45b",
   "metadata": {},
   "outputs": [],
   "source": []
  }
 ],
 "metadata": {
  "language_info": {
   "name": "python"
  }
 },
 "nbformat": 4,
 "nbformat_minor": 5
}
